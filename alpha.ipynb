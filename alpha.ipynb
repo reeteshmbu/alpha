{
  "nbformat": 4,
  "nbformat_minor": 0,
  "metadata": {
    "colab": {
      "name": "alpha.ipynb",
      "provenance": [],
      "private_outputs": true,
      "authorship_tag": "ABX9TyM8+wIvgSxetEfyoyubPUtk",
      "include_colab_link": true
    },
    "kernelspec": {
      "name": "python3",
      "display_name": "Python 3"
    }
  },
  "cells": [
    {
      "cell_type": "markdown",
      "metadata": {
        "id": "view-in-github",
        "colab_type": "text"
      },
      "source": [
        "<a href=\"https://colab.research.google.com/github/reeteshmbu/alpha/blob/master/alpha.ipynb\" target=\"_parent\"><img src=\"https://colab.research.google.com/assets/colab-badge.svg\" alt=\"Open In Colab\"/></a>"
      ]
    },
    {
      "cell_type": "code",
      "metadata": {
        "id": "Si-kP5P7JAi2",
        "colab_type": "code",
        "colab": {}
      },
      "source": [
        "print ('hello world')"
      ],
      "execution_count": null,
      "outputs": []
    }
  ]
}